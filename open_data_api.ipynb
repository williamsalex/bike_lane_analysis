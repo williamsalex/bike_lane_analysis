{
 "cells": [
  {
   "cell_type": "code",
   "execution_count": 85,
   "metadata": {},
   "outputs": [],
   "source": [
    "import requests\n",
    "import math\n",
    "import json\n",
    "import pandas as pd\n",
    "import re\n",
    "from sodapy import Socrata\n",
    "import multiprocessing"
   ]
  },
  {
   "cell_type": "code",
   "execution_count": 55,
   "metadata": {},
   "outputs": [],
   "source": [
    "def cd():\n",
    "    data = requests.get('https://data.cityofnewyork.us/api/views/cc5c-sm6z/rows.json')\n",
    "    raw_data = data.json()['data']\n",
    "    cleaner_data = []\n",
    "    for lane in raw_data:\n",
    "        coords = lane[8].split(',')\n",
    "        if lane[-1] != None:\n",
    "            cleaner_data.append({'first_coord': (float(coords[0][18:].split(' ')[1]), float(coords[0][18:].split(' ')[0])), 'second_coord': (float(coords[1][1:-2].split(' ')[1]), float(coords[1][1:-2].split(' ')[0])), 'type': lane[-1]})\n",
    "        else:\n",
    "            cleaner_data.append({'first_coord': (float(coords[0][18:].split(' ')[1]), float(coords[0][18:].split(' ')[0])), 'second_coord': (float(coords[1][1:-2].split(' ')[1]), float(coords[1][1:-2].split(' ')[0])), 'type': 'Unknown'})\n",
    "    return cleaner_data"
   ]
  },
  {
   "cell_type": "code",
   "execution_count": 56,
   "metadata": {},
   "outputs": [],
   "source": [
    "lane_data = cd()"
   ]
  },
  {
   "cell_type": "code",
   "execution_count": null,
   "metadata": {},
   "outputs": [],
   "source": [
    "def quick_dist(coord1, coord2):\n",
    "    return math.sqrt(math.pow(12430*((coord1[1]-coord2[1])/180),2)+math.pow(24901*((coord1[0]-coord2[0])/360)*0.16133111759,2))"
   ]
  },
  {
   "cell_type": "code",
   "execution_count": 57,
   "metadata": {},
   "outputs": [],
   "source": [
    "def cds(data):\n",
    "    actionable_data = []\n",
    "    assembly_array = []\n",
    "    count = 0\n",
    "    for lane in data:\n",
    "        newlane = lane\n",
    "        count += 1\n",
    "        for option in data:\n",
    "            if quick_dist(lane['first_coord'], option['first_coord']) < 0.5 and lane['first_coord'] != option['first_coord'] and lane['second_coord'] != option['second_coord']:\n",
    "                assembly_array.append({'first_coord': option['first_coord'], 'second_coord': option['second_coord'], 'type': option['type']})\n",
    "        newlane['options'] = assembly_array\n",
    "        assembly_array = []\n",
    "        if count % 1000 == 0:\n",
    "            print(str(int(count/len(data)*100))+'%')\n",
    "        actionable_data.append(newlane)\n",
    "    return actionable_data"
   ]
  },
  {
   "cell_type": "code",
   "execution_count": 58,
   "metadata": {},
   "outputs": [
    {
     "name": "stdout",
     "output_type": "stream",
     "text": [
      "5%\n",
      "10%\n",
      "16%\n",
      "21%\n",
      "26%\n",
      "32%\n",
      "37%\n",
      "42%\n",
      "48%\n",
      "53%\n",
      "58%\n",
      "64%\n",
      "69%\n",
      "74%\n",
      "80%\n",
      "85%\n",
      "90%\n",
      "96%\n"
     ]
    }
   ],
   "source": [
    "clean_data = cds(lane_data)"
   ]
  },
  {
   "cell_type": "code",
   "execution_count": 86,
   "metadata": {},
   "outputs": [],
   "source": [
    "def retrieve_crashes():\n",
    "    client = Socrata(\"data.cityofnewyork.us\", None)\n",
    "    results = client.get(\"h9gi-nx95\", limit=\"100000000\")\n",
    "    return results"
   ]
  },
  {
   "cell_type": "code",
   "execution_count": 87,
   "metadata": {},
   "outputs": [
    {
     "name": "stderr",
     "output_type": "stream",
     "text": [
      "WARNING:root:Requests made without an app_token will be subject to strict throttling limits.\n"
     ]
    }
   ],
   "source": [
    "crash_data = retrieve_crashes()"
   ]
  },
  {
   "cell_type": "code",
   "execution_count": 111,
   "metadata": {},
   "outputs": [],
   "source": [
    "def parse_crashes(data):\n",
    "    regex = r\"vehicle_type_code\\d+\"\n",
    "    bike_accidents = []\n",
    "    errors = 0\n",
    "    for crash in data:\n",
    "        for item in crash.keys():\n",
    "            if re.match(regex, item) and crash[item] == 'Bike' and int(crash['number_of_cyclist_injured'] + crash['number_of_cyclist_killed']) > 0:\n",
    "                try:\n",
    "                    bike_accidents.append({\n",
    "                        'date': crash['crash_date'],\n",
    "                        'time': crash['crash_time'],\n",
    "                        'latitude': float(crash['latitude']),\n",
    "                        'longitude': float(crash['longitude']),\n",
    "                        'number_of_cyclist_injured': crash['number_of_cyclist_injured'],\n",
    "                        'number_of_cyclist_killed': crash['number_of_cyclist_killed'],\n",
    "                    })\n",
    "                except:\n",
    "                    errors += 1\n",
    "                break\n",
    "    print(\"The percentage of bike crashes which are invalid is:\", errors/len(bike_accidents))\n",
    "    return bike_accidents"
   ]
  },
  {
   "cell_type": "code",
   "execution_count": 112,
   "metadata": {},
   "outputs": [
    {
     "name": "stdout",
     "output_type": "stream",
     "text": [
      "The percentage of bike crashes which are invalid is: 0.08203823035685276\n"
     ]
    }
   ],
   "source": [
    "result = parse_crashes(crash_data)"
   ]
  },
  {
   "cell_type": "code",
   "execution_count": 77,
   "metadata": {},
   "outputs": [],
   "source": [
    "def score_lanes(crash_data, lane_data):\n",
    "    for lane in lane_data:\n",
    "        lane_dist = quick_dist(lane['first_coord'], lane['second_coord']) / 2\n",
    "        for crash in crash_data:\n",
    "            first_dist = quick_dist(lane['first_coord'], (crash['latitude'], crash['longitude']))\n",
    "            second_dist = quick_dist(lane['second_coord'], (crash['latitude'], crash['longitude']))\n",
    "            if lane_dist > first_dist or lane_dist > second_dist:\n",
    "                try:\n",
    "                    lane['injuries'] += crash['number_of_cyclist_injured']\n",
    "                    lane['deaths'] += crash['number_of_cyclist_killed']\n",
    "                except:\n",
    "                    lane['injuries'] = crash['number_of_cyclist_injured']\n",
    "                    lane['deaths'] = crash['number_of_cyclist_killed']\n",
    "    return lane_data"
   ]
  },
  {
   "cell_type": "code",
   "execution_count": 78,
   "metadata": {},
   "outputs": [
    {
     "ename": "KeyboardInterrupt",
     "evalue": "",
     "output_type": "error",
     "traceback": [
      "\u001b[0;31m---------------------------------------------------------------------------\u001b[0m",
      "\u001b[0;31mKeyboardInterrupt\u001b[0m                         Traceback (most recent call last)",
      "\u001b[0;32m<ipython-input-78-2b7a83382104>\u001b[0m in \u001b[0;36m<module>\u001b[0;34m\u001b[0m\n\u001b[0;32m----> 1\u001b[0;31m \u001b[0mupdated_lanes\u001b[0m \u001b[0;34m=\u001b[0m \u001b[0mscore_lanes\u001b[0m\u001b[0;34m(\u001b[0m\u001b[0mresult\u001b[0m\u001b[0;34m,\u001b[0m \u001b[0mclean_data\u001b[0m\u001b[0;34m)\u001b[0m\u001b[0;34m\u001b[0m\u001b[0;34m\u001b[0m\u001b[0m\n\u001b[0m",
      "\u001b[0;32m<ipython-input-77-a317754435bc>\u001b[0m in \u001b[0;36mscore_lanes\u001b[0;34m(crash_data, lane_data)\u001b[0m\n\u001b[1;32m      4\u001b[0m         \u001b[0;32mfor\u001b[0m \u001b[0mcrash\u001b[0m \u001b[0;32min\u001b[0m \u001b[0mcrash_data\u001b[0m\u001b[0;34m:\u001b[0m\u001b[0;34m\u001b[0m\u001b[0;34m\u001b[0m\u001b[0m\n\u001b[1;32m      5\u001b[0m             \u001b[0mfirst_dist\u001b[0m \u001b[0;34m=\u001b[0m \u001b[0mquick_dist\u001b[0m\u001b[0;34m(\u001b[0m\u001b[0mlane\u001b[0m\u001b[0;34m[\u001b[0m\u001b[0;34m'first_coord'\u001b[0m\u001b[0;34m]\u001b[0m\u001b[0;34m,\u001b[0m \u001b[0;34m(\u001b[0m\u001b[0mcrash\u001b[0m\u001b[0;34m[\u001b[0m\u001b[0;34m'latitude'\u001b[0m\u001b[0;34m]\u001b[0m\u001b[0;34m,\u001b[0m \u001b[0mcrash\u001b[0m\u001b[0;34m[\u001b[0m\u001b[0;34m'longitude'\u001b[0m\u001b[0;34m]\u001b[0m\u001b[0;34m)\u001b[0m\u001b[0;34m)\u001b[0m\u001b[0;34m\u001b[0m\u001b[0;34m\u001b[0m\u001b[0m\n\u001b[0;32m----> 6\u001b[0;31m             \u001b[0msecond_dist\u001b[0m \u001b[0;34m=\u001b[0m \u001b[0mquick_dist\u001b[0m\u001b[0;34m(\u001b[0m\u001b[0mlane\u001b[0m\u001b[0;34m[\u001b[0m\u001b[0;34m'second_coord'\u001b[0m\u001b[0;34m]\u001b[0m\u001b[0;34m,\u001b[0m \u001b[0;34m(\u001b[0m\u001b[0mcrash\u001b[0m\u001b[0;34m[\u001b[0m\u001b[0;34m'latitude'\u001b[0m\u001b[0;34m]\u001b[0m\u001b[0;34m,\u001b[0m \u001b[0mcrash\u001b[0m\u001b[0;34m[\u001b[0m\u001b[0;34m'longitude'\u001b[0m\u001b[0;34m]\u001b[0m\u001b[0;34m)\u001b[0m\u001b[0;34m)\u001b[0m\u001b[0;34m\u001b[0m\u001b[0;34m\u001b[0m\u001b[0m\n\u001b[0m\u001b[1;32m      7\u001b[0m             \u001b[0;32mif\u001b[0m \u001b[0mlane_dist\u001b[0m \u001b[0;34m>\u001b[0m \u001b[0mfirst_dist\u001b[0m \u001b[0;32mor\u001b[0m \u001b[0mlane_dist\u001b[0m \u001b[0;34m>\u001b[0m \u001b[0msecond_dist\u001b[0m\u001b[0;34m:\u001b[0m\u001b[0;34m\u001b[0m\u001b[0;34m\u001b[0m\u001b[0m\n\u001b[1;32m      8\u001b[0m                 \u001b[0;32mtry\u001b[0m\u001b[0;34m:\u001b[0m\u001b[0;34m\u001b[0m\u001b[0;34m\u001b[0m\u001b[0m\n",
      "\u001b[0;32m<ipython-input-57-283a3068efe7>\u001b[0m in \u001b[0;36mquick_dist\u001b[0;34m(coord1, coord2)\u001b[0m\n\u001b[0;32m----> 1\u001b[0;31m \u001b[0;32mdef\u001b[0m \u001b[0mquick_dist\u001b[0m\u001b[0;34m(\u001b[0m\u001b[0mcoord1\u001b[0m\u001b[0;34m,\u001b[0m \u001b[0mcoord2\u001b[0m\u001b[0;34m)\u001b[0m\u001b[0;34m:\u001b[0m\u001b[0;34m\u001b[0m\u001b[0;34m\u001b[0m\u001b[0m\n\u001b[0m\u001b[1;32m      2\u001b[0m     \u001b[0;32mreturn\u001b[0m \u001b[0mmath\u001b[0m\u001b[0;34m.\u001b[0m\u001b[0msqrt\u001b[0m\u001b[0;34m(\u001b[0m\u001b[0mmath\u001b[0m\u001b[0;34m.\u001b[0m\u001b[0mpow\u001b[0m\u001b[0;34m(\u001b[0m\u001b[0;36m12430\u001b[0m\u001b[0;34m*\u001b[0m\u001b[0;34m(\u001b[0m\u001b[0;34m(\u001b[0m\u001b[0mcoord1\u001b[0m\u001b[0;34m[\u001b[0m\u001b[0;36m1\u001b[0m\u001b[0;34m]\u001b[0m\u001b[0;34m-\u001b[0m\u001b[0mcoord2\u001b[0m\u001b[0;34m[\u001b[0m\u001b[0;36m1\u001b[0m\u001b[0;34m]\u001b[0m\u001b[0;34m)\u001b[0m\u001b[0;34m/\u001b[0m\u001b[0;36m180\u001b[0m\u001b[0;34m)\u001b[0m\u001b[0;34m,\u001b[0m\u001b[0;36m2\u001b[0m\u001b[0;34m)\u001b[0m\u001b[0;34m+\u001b[0m\u001b[0mmath\u001b[0m\u001b[0;34m.\u001b[0m\u001b[0mpow\u001b[0m\u001b[0;34m(\u001b[0m\u001b[0;36m24901\u001b[0m\u001b[0;34m*\u001b[0m\u001b[0;34m(\u001b[0m\u001b[0;34m(\u001b[0m\u001b[0mcoord1\u001b[0m\u001b[0;34m[\u001b[0m\u001b[0;36m0\u001b[0m\u001b[0;34m]\u001b[0m\u001b[0;34m-\u001b[0m\u001b[0mcoord2\u001b[0m\u001b[0;34m[\u001b[0m\u001b[0;36m0\u001b[0m\u001b[0;34m]\u001b[0m\u001b[0;34m)\u001b[0m\u001b[0;34m/\u001b[0m\u001b[0;36m360\u001b[0m\u001b[0;34m)\u001b[0m\u001b[0;34m*\u001b[0m\u001b[0;36m0.16133111759\u001b[0m\u001b[0;34m,\u001b[0m\u001b[0;36m2\u001b[0m\u001b[0;34m)\u001b[0m\u001b[0;34m)\u001b[0m\u001b[0;34m\u001b[0m\u001b[0;34m\u001b[0m\u001b[0m\n\u001b[1;32m      3\u001b[0m \u001b[0;34m\u001b[0m\u001b[0m\n\u001b[1;32m      4\u001b[0m \u001b[0;32mdef\u001b[0m \u001b[0mcds\u001b[0m\u001b[0;34m(\u001b[0m\u001b[0mdata\u001b[0m\u001b[0;34m)\u001b[0m\u001b[0;34m:\u001b[0m\u001b[0;34m\u001b[0m\u001b[0;34m\u001b[0m\u001b[0m\n\u001b[1;32m      5\u001b[0m     \u001b[0mactionable_data\u001b[0m \u001b[0;34m=\u001b[0m \u001b[0;34m[\u001b[0m\u001b[0;34m]\u001b[0m\u001b[0;34m\u001b[0m\u001b[0;34m\u001b[0m\u001b[0m\n",
      "\u001b[0;31mKeyboardInterrupt\u001b[0m: "
     ]
    }
   ],
   "source": [
    "updated_lanes = score_lanes(result, clean_data)"
   ]
  },
  {
   "cell_type": "code",
   "execution_count": 110,
   "metadata": {},
   "outputs": [
    {
     "data": {
      "text/plain": [
       "24315"
      ]
     },
     "execution_count": 110,
     "metadata": {},
     "output_type": "execute_result"
    }
   ],
   "source": [
    "len(result)"
   ]
  },
  {
   "cell_type": "code",
   "execution_count": 82,
   "metadata": {},
   "outputs": [
    {
     "data": {
      "text/plain": [
       "18730"
      ]
     },
     "execution_count": 82,
     "metadata": {},
     "output_type": "execute_result"
    }
   ],
   "source": [
    "len(clean_data)"
   ]
  },
  {
   "cell_type": "code",
   "execution_count": 117,
   "metadata": {},
   "outputs": [
    {
     "data": {
      "text/plain": [
       "{'date': '2012-09-12T00:00:00.000',\n",
       " 'time': '21:10',\n",
       " 'latitude': 40.63659,\n",
       " 'longitude': -73.994736,\n",
       " 'number_of_cyclist_injured': '1',\n",
       " 'number_of_cyclist_killed': '0'}"
      ]
     },
     "execution_count": 117,
     "metadata": {},
     "output_type": "execute_result"
    }
   ],
   "source": [
    "result[-1]"
   ]
  },
  {
   "cell_type": "code",
   "execution_count": null,
   "metadata": {},
   "outputs": [],
   "source": []
  }
 ],
 "metadata": {
  "kernelspec": {
   "display_name": "Python 3",
   "language": "python",
   "name": "python3"
  },
  "language_info": {
   "codemirror_mode": {
    "name": "ipython",
    "version": 3
   },
   "file_extension": ".py",
   "mimetype": "text/x-python",
   "name": "python",
   "nbconvert_exporter": "python",
   "pygments_lexer": "ipython3",
   "version": "3.7.6"
  }
 },
 "nbformat": 4,
 "nbformat_minor": 4
}
